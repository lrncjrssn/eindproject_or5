{
 "cells": [
  {
   "cell_type": "code",
   "execution_count": 4,
   "id": "222037a4-9f4b-4429-98c2-b64a46efde7c",
   "metadata": {},
   "outputs": [],
   "source": [
    "import pandas as pd\n",
    "import math as m\n",
    "import numpy as np"
   ]
  },
  {
   "cell_type": "code",
   "execution_count": 5,
   "id": "1c045da9-31c3-415b-b76b-d6b099c7e55e",
   "metadata": {},
   "outputs": [
    {
     "data": {
      "text/html": [
       "<div>\n",
       "<style scoped>\n",
       "    .dataframe tbody tr th:only-of-type {\n",
       "        vertical-align: middle;\n",
       "    }\n",
       "\n",
       "    .dataframe tbody tr th {\n",
       "        vertical-align: top;\n",
       "    }\n",
       "\n",
       "    .dataframe thead th {\n",
       "        text-align: right;\n",
       "    }\n",
       "</style>\n",
       "<table border=\"1\" class=\"dataframe\">\n",
       "  <thead>\n",
       "    <tr style=\"text-align: right;\">\n",
       "      <th></th>\n",
       "      <th>name</th>\n",
       "      <th>x</th>\n",
       "      <th>y</th>\n",
       "    </tr>\n",
       "  </thead>\n",
       "  <tbody>\n",
       "    <tr>\n",
       "      <th>0</th>\n",
       "      <td>1</td>\n",
       "      <td>0.0</td>\n",
       "      <td>0</td>\n",
       "    </tr>\n",
       "    <tr>\n",
       "      <th>1</th>\n",
       "      <td>2</td>\n",
       "      <td>0.0</td>\n",
       "      <td>1</td>\n",
       "    </tr>\n",
       "    <tr>\n",
       "      <th>2</th>\n",
       "      <td>3</td>\n",
       "      <td>0.5</td>\n",
       "      <td>1</td>\n",
       "    </tr>\n",
       "    <tr>\n",
       "      <th>3</th>\n",
       "      <td>4</td>\n",
       "      <td>0.5</td>\n",
       "      <td>0</td>\n",
       "    </tr>\n",
       "  </tbody>\n",
       "</table>\n",
       "</div>"
      ],
      "text/plain": [
       "   name    x  y\n",
       "0     1  0.0  0\n",
       "1     2  0.0  1\n",
       "2     3  0.5  1\n",
       "3     4  0.5  0"
      ]
     },
     "execution_count": 5,
     "metadata": {},
     "output_type": "execute_result"
    }
   ],
   "source": [
    "df = pd.read_excel(\"tsp_instance.xlsx\")\n",
    "df.head()"
   ]
  },
  {
   "cell_type": "code",
   "execution_count": 59,
   "id": "2278beae-828e-43cf-b6eb-612c4c9adf0a",
   "metadata": {},
   "outputs": [
    {
     "name": "stdout",
     "output_type": "stream",
     "text": [
      "1\n",
      "2\n",
      "3\n",
      "{(0, 1): 1.0, (1, 0): 1.0, (0, 2): 1.118033988749895, (2, 0): 1.118033988749895, (0, 3): 0.5, (3, 0): 0.5, (1, 2): 0.5, (2, 1): 0.5, (1, 3): 1.118033988749895, (3, 1): 1.118033988749895, (2, 3): 1.0, (3, 2): 1.0}\n"
     ]
    }
   ],
   "source": [
    "def distance(df):\n",
    "    dist = {}\n",
    "    j = 0\n",
    "    k = 1\n",
    "    n = len(df)\n",
    "    while j < n-1:\n",
    "        d = m.sqrt((df.loc[j, \"x\"] - df.loc[k, \"x\"])**2 + (df.loc[j, \"y\"] - df.loc[k, \"y\"])**2)\n",
    "        dist[(j, k)] = d\n",
    "        dist[(k,j)] = d\n",
    "        k = k + 1\n",
    "        if k == n:\n",
    "            j = j + 1\n",
    "            print (j)\n",
    "            k = j + 1\n",
    "    \n",
    "    print (dist)\n",
    "\n",
    "distance(df)"
   ]
  },
  {
   "cell_type": "code",
   "execution_count": 67,
   "id": "0d19bc14-286c-4dec-a204-f8a90e2289b1",
   "metadata": {},
   "outputs": [
    {
     "name": "stdout",
     "output_type": "stream",
     "text": [
      "1.0 0 1\n",
      "1.118033988749895 0 2\n",
      "0.5 0 3\n",
      "vanaf stad 0 is stad 3 het dichtste bij\n",
      "de totale afstand is 0.5\n",
      "1.118033988749895 3 1\n",
      "1.0 3 2\n",
      "vanaf stad 3 is stad 2 het dichtste bij\n",
      "de totale afstand is 1.5\n",
      "1.118033988749895 2 0\n",
      "0.5 2 1\n",
      "vanaf stad 2 is stad 1 het dichtste bij\n",
      "de totale afstand is 2.0\n",
      "1.0 1 0\n",
      "1.118033988749895 1 3\n",
      "vanaf stad 1 is stad 0 het dichtste bij\n",
      "de totale afstand is 3.0\n",
      "de route is [0, 3, 2, 1, 0]\n"
     ]
    }
   ],
   "source": [
    "def nearest_neighbor():\n",
    "    totaal = 0\n",
    "    kortste = 100 \n",
    "    naar_stad = 0 \n",
    "    i = 0\n",
    "    j = [0]\n",
    "    n = len(df)\n",
    "    while i < n:\n",
    "        for k in range(n):\n",
    "            if j[i-1] !=k:\n",
    "                if j[i] != k:\n",
    "                    afstand = dist[(k,j[i])]\n",
    "                    print (afstand, j[i], k)\n",
    "                    if afstand < kortste:\n",
    "                        kortste = afstand\n",
    "                        naar_stad = k\n",
    "        print(f'vanaf stad {j[i]} is stad {naar_stad} het dichtste bij')\n",
    "        totaal = totaal + kortste\n",
    "        print (f'de totale afstand is {totaal}')\n",
    "        i = i + 1\n",
    "        kortste = 100\n",
    "        k = 0\n",
    "        j.append(naar_stad)\n",
    "    print (f'de route is {j}')\n",
    "\n",
    "nearest_neighbor()"
   ]
  },
  {
   "cell_type": "code",
   "execution_count": null,
   "id": "ed6c4f7c-4fc2-49b8-a2e5-368cb1cda871",
   "metadata": {},
   "outputs": [],
   "source": []
  }
 ],
 "metadata": {
  "kernelspec": {
   "display_name": "Python 3 (ipykernel)",
   "language": "python",
   "name": "python3"
  },
  "language_info": {
   "codemirror_mode": {
    "name": "ipython",
    "version": 3
   },
   "file_extension": ".py",
   "mimetype": "text/x-python",
   "name": "python",
   "nbconvert_exporter": "python",
   "pygments_lexer": "ipython3",
   "version": "3.12.7"
  }
 },
 "nbformat": 4,
 "nbformat_minor": 5
}
